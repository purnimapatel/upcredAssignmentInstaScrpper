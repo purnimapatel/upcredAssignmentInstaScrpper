{
 "cells": [
  {
   "cell_type": "code",
   "execution_count": 1,
   "id": "ad07a0fc",
   "metadata": {
    "scrolled": false
   },
   "outputs": [
    {
     "name": "stdout",
     "output_type": "stream",
     "text": [
      "Requirement already satisfied: instaloader in c:\\users\\lenovo\\anaconda3\\lib\\site-packages (4.9.6)\n",
      "Requirement already satisfied: requests>=2.4 in c:\\users\\lenovo\\anaconda3\\lib\\site-packages (from instaloader) (2.27.1)\n",
      "Requirement already satisfied: charset-normalizer~=2.0.0 in c:\\users\\lenovo\\anaconda3\\lib\\site-packages (from requests>=2.4->instaloader) (2.0.4)\n",
      "Requirement already satisfied: idna<4,>=2.5 in c:\\users\\lenovo\\anaconda3\\lib\\site-packages (from requests>=2.4->instaloader) (3.3)\n",
      "Requirement already satisfied: certifi>=2017.4.17 in c:\\users\\lenovo\\anaconda3\\lib\\site-packages (from requests>=2.4->instaloader) (2021.10.8)\n",
      "Requirement already satisfied: urllib3<1.27,>=1.21.1 in c:\\users\\lenovo\\anaconda3\\lib\\site-packages (from requests>=2.4->instaloader) (1.26.9)\n",
      "Note: you may need to restart the kernel to use updated packages.\n"
     ]
    }
   ],
   "source": [
    "pip install instaloader"
   ]
  },
  {
   "cell_type": "code",
   "execution_count": null,
   "id": "ef36b740",
   "metadata": {},
   "outputs": [],
   "source": [
    "#input kernel\n",
    "import instaloader\n",
    "\n",
    "loader = instaloader.Instaloader()\n",
    "try:\n",
    "    profile = instaloader.Profile.from_username(loader.context,input())\n",
    "except:\n",
    "    print(\"Please Enter valid username\")"
   ]
  },
  {
   "cell_type": "code",
   "execution_count": null,
   "id": "03116c1a",
   "metadata": {},
   "outputs": [],
   "source": [
    "#profileId\n",
    "print(profile)"
   ]
  },
  {
   "cell_type": "code",
   "execution_count": null,
   "id": "ea2f964c",
   "metadata": {},
   "outputs": [],
   "source": [
    "#Output kernel\n",
    "print(\"Username: \", profile.username)\n",
    "print(\"User Id: \", profile.userid)\n",
    "print(\"Followers Count: \", profile.followers)\n",
    "print(\"Bio\", profile.biography)\n",
    "print(\"External_link\",profile.external_url)\n",
    "print(\"postCount\", profile.mediacount)\n",
    "print(\"reelCount\", profile.igtvcount)\n",
    "profile_detail = {}\n",
    "profile_detail['Username'] = profile.username\n",
    "profile_detail['User Id'] = profile.userid\n",
    "profile_detail['Followers Count'] = profile.followers\n",
    "profile_detail['Bio'] = profile.biography\n",
    "profile_detail['External Link'] = profile.external_url\n",
    "profile_detail['postCount'] = profile.mediacount\n",
    "profile_detail['reelCount'] = profile.igtvcount\n",
    "print(profile_detail)\n",
    "#saving the scrapped data in JSON File\n",
    "import json\n",
    "if(profile.followers>2000):\n",
    "    with open('InstaProfiles.json', 'a', encoding=\"utf-8\") as file:\n",
    "        x = json.dumps(profile_detail, indent=4)\n",
    "        file.write(x + '\\n')"
   ]
  },
  {
   "cell_type": "code",
   "execution_count": null,
   "id": "c4ae8472",
   "metadata": {
    "scrolled": true
   },
   "outputs": [],
   "source": []
  },
  {
   "cell_type": "code",
   "execution_count": null,
   "id": "3f1253c6",
   "metadata": {},
   "outputs": [],
   "source": []
  }
 ],
 "metadata": {
  "kernelspec": {
   "display_name": "Python 3 (ipykernel)",
   "language": "python",
   "name": "python3"
  },
  "language_info": {
   "codemirror_mode": {
    "name": "ipython",
    "version": 3
   },
   "file_extension": ".py",
   "mimetype": "text/x-python",
   "name": "python",
   "nbconvert_exporter": "python",
   "pygments_lexer": "ipython3",
   "version": "3.9.12"
  }
 },
 "nbformat": 4,
 "nbformat_minor": 5
}
